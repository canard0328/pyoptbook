{
 "cells": [
  {
   "cell_type": "markdown",
   "metadata": {},
   "source": [
    "# 2.1\n",
    "1個120円のりんごと1個150円のなしを合わせて10個買ったら、代金の合計が1440円でした。りんごとなしをそれぞれ何個買ったでしょうか。"
   ]
  },
  {
   "cell_type": "code",
   "execution_count": 4,
   "metadata": {},
   "outputs": [
    {
     "name": "stdout",
     "output_type": "stream",
     "text": [
      "Status: Optimal\n",
      "x= 2.0 y= 8.0\n"
     ]
    }
   ],
   "source": [
    "import pulp\n",
    "\n",
    "problem = pulp.LpProblem(\"SLE\", pulp.LpMaximize)\n",
    "# 第1引数は問題の名前。任意。SLE=Simultaneous Linear Equations\n",
    "# 第2引数は最大化問題を解くことを指定しているが、今回は意味なし。\n",
    "\n",
    "x = pulp.LpVariable(\"x\", cat=\"Continuous\")\n",
    "y = pulp.LpVariable(\"y\", cat=\"Continuous\")\n",
    "\n",
    "# 制約式\n",
    "# += を使うこと、== を使うことに注意。\n",
    "problem += 120 * x + 150 * y == 1440\n",
    "problem += x + y == 10\n",
    "\n",
    "status = problem.solve(pulp.PULP_CBC_CMD(msg=0))\n",
    "# PULP_CBC_CMD(msg=0)でログメッセージを抑制\n",
    "\n",
    "print(\"Status:\", pulp.LpStatus[status])\n",
    "print(\"x=\", x.value(), \"y=\", y.value())"
   ]
  },
  {
   "cell_type": "markdown",
   "metadata": {},
   "source": [
    "# 2.2\n",
    "ある工場では製品pとqを製造しています。製品pとqを製造するには原料mとnが必要で、次のことが分かっています。\n",
    "\n",
    "- 製品pを1kg製造するには原料mが1kg、原料nが2kg必要である。\n",
    "- 製品qを1kg製造するには原料mが3kg、原料nが1kg必要である。\n",
    "- 原料mの在庫は30kg、原料nの在庫は40kgである。\n",
    "- 単位量当たりの利得は、製品pは1万円、製品nは2万円である。\n",
    "\n",
    "この条件で利得を最大にするためには、製品pとqをそれぞれ何kg製造すればよいでしょうか。\n",
    "\n",
    "製品pの製造量をxkg、製品qの製造量をykgとすると、\n",
    "$$\n",
    "x + 3y \\le 30 \\\\\n",
    "2x + y \\le 40 \\\\\n",
    "x \\ge 0, y \\ge 0 \\\\\n",
    "$$\n",
    "の条件のもとで、利得の合計$x+2y$を最大化すればよい。"
   ]
  },
  {
   "cell_type": "code",
   "execution_count": 3,
   "metadata": {},
   "outputs": [
    {
     "name": "stdout",
     "output_type": "stream",
     "text": [
      "Status: Optimal\n",
      "x= 18.0 y= 4.0 obj= 26.0\n"
     ]
    }
   ],
   "source": [
    "import pulp\n",
    "\n",
    "problem = pulp.LpProblem(\"LP\", pulp.LpMaximize)\n",
    "\n",
    "x = pulp.LpVariable(\"x\", cat=\"Continuous\")\n",
    "y = pulp.LpVariable(\"y\", cat=\"Continuous\")\n",
    "\n",
    "problem += 1 * x + 3 * y <= 30\n",
    "problem += 2 * x + 1 * y <= 40\n",
    "problem += x >= 0\n",
    "problem += y >= 0\n",
    "problem += x + 2 * y  # 制約式の形でないものは目的関数と見做される\n",
    "\n",
    "status = problem.solve(pulp.PULP_CBC_CMD(msg=0))\n",
    "\n",
    "print(\"Status:\", pulp.LpStatus[status])\n",
    "print(\"x=\", x.value(), \"y=\", y.value(), \"obj=\", problem.objective.value())"
   ]
  }
 ],
 "metadata": {
  "kernelspec": {
   "display_name": "Python 3.10.8 64-bit",
   "language": "python",
   "name": "python3"
  },
  "language_info": {
   "codemirror_mode": {
    "name": "ipython",
    "version": 3
   },
   "file_extension": ".py",
   "mimetype": "text/x-python",
   "name": "python",
   "nbconvert_exporter": "python",
   "pygments_lexer": "ipython3",
   "version": "3.10.8"
  },
  "orig_nbformat": 4,
  "vscode": {
   "interpreter": {
    "hash": "949777d72b0d2535278d3dc13498b2535136f6dfe0678499012e853ee9abcab1"
   }
  }
 },
 "nbformat": 4,
 "nbformat_minor": 2
}
