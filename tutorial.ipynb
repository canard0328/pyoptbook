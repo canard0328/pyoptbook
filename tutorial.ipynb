{
 "cells": [
  {
   "cell_type": "markdown",
   "metadata": {},
   "source": [
    "# 2.1\n",
    "1個120円のりんごと1個150円のなしを合わせて10個買ったら、代金の合計が1440円でした。りんごとなしをそれぞれ何個買ったでしょうか。"
   ]
  },
  {
   "cell_type": "code",
   "execution_count": 4,
   "metadata": {},
   "outputs": [
    {
     "name": "stdout",
     "output_type": "stream",
     "text": [
      "Status: Optimal\n",
      "x= 2.0 y= 8.0\n"
     ]
    }
   ],
   "source": [
    "import pulp\n",
    "\n",
    "problem = pulp.LpProblem(\"SLE\", pulp.LpMaximize)\n",
    "# 第1引数は問題の名前。任意。SLE=Simultaneous Linear Equations\n",
    "# 第2引数は最大化問題を解くことを指定しているが、今回は意味なし。\n",
    "\n",
    "x = pulp.LpVariable(\"x\", cat=\"Continuous\")\n",
    "y = pulp.LpVariable(\"y\", cat=\"Continuous\")\n",
    "\n",
    "# 制約式\n",
    "# += を使うこと、== を使うことに注意。\n",
    "problem += 120 * x + 150 * y == 1440\n",
    "problem += x + y == 10\n",
    "\n",
    "status = problem.solve(pulp.PULP_CBC_CMD(msg=0))\n",
    "# PULP_CBC_CMD(msg=0)でログメッセージを抑制\n",
    "\n",
    "print(\"Status:\", pulp.LpStatus[status])\n",
    "print(\"x=\", x.value(), \"y=\", y.value())"
   ]
  },
  {
   "cell_type": "markdown",
   "metadata": {},
   "source": [
    "# 2.2\n",
    "ある工場では製品pとqを製造しています。製品pとqを製造するには原料mとnが必要で、次のことが分かっています。\n",
    "\n",
    "- 製品pを1kg製造するには原料mが1kg、原料nが2kg必要である。\n",
    "- 製品qを1kg製造するには原料mが3kg、原料nが1kg必要である。\n",
    "- 原料mの在庫は30kg、原料nの在庫は40kgである。\n",
    "- 単位量当たりの利得は、製品pは1万円、製品nは2万円である。\n",
    "\n",
    "この条件で利得を最大にするためには、製品pとqをそれぞれ何kg製造すればよいでしょうか。\n",
    "\n",
    "製品pの製造量をxkg、製品qの製造量をykgとすると、\n",
    "$$\n",
    "x + 3y \\le 30 \\\\\n",
    "2x + y \\le 40 \\\\\n",
    "x \\ge 0, y \\ge 0 \\\\\n",
    "$$\n",
    "の条件のもとで、利得の合計$x+2y$を最大化すればよい。"
   ]
  },
  {
   "cell_type": "code",
   "execution_count": 3,
   "metadata": {},
   "outputs": [
    {
     "name": "stdout",
     "output_type": "stream",
     "text": [
      "Status: Optimal\n",
      "x= 18.0 y= 4.0 obj= 26.0\n"
     ]
    }
   ],
   "source": [
    "import pulp\n",
    "\n",
    "problem = pulp.LpProblem(\"LP\", pulp.LpMaximize)\n",
    "\n",
    "x = pulp.LpVariable(\"x\", cat=\"Continuous\")\n",
    "y = pulp.LpVariable(\"y\", cat=\"Continuous\")\n",
    "\n",
    "problem += 1 * x + 3 * y <= 30\n",
    "problem += 2 * x + 1 * y <= 40\n",
    "problem += x >= 0\n",
    "problem += y >= 0\n",
    "problem += x + 2 * y  # 制約式の形でないものは目的関数と見做される\n",
    "\n",
    "status = problem.solve(pulp.PULP_CBC_CMD(msg=0))\n",
    "\n",
    "print(\"Status:\", pulp.LpStatus[status])\n",
    "print(\"x=\", x.value(), \"y=\", y.value(), \"obj=\", problem.objective.value())"
   ]
  },
  {
   "cell_type": "markdown",
   "metadata": {},
   "source": [
    "# 2.3 規模の大きな問題\n",
    "ある工場では製品p1、p2、p3、p4の4種類を製造しています。製品p1、p2、p3、p4の製造には、原料m1、m2、m3の３種類が必要です。\n",
    "また、その量はファイルrequires.csvに記述されています。\n",
    "|p|m|require|\n",
    "|:---:|:---:|:---:|\n",
    "|p1|m1|2|\n",
    "|p1|m2|0|\n",
    "|p1|m3|1|\n",
    "|p2|m1|3|\n",
    "|・・・|・・・|・・・|\n",
    "\n",
    "本データの2～4行目は、製品p1を1kg製造するには原料m1が2kg、原料m2が0kg、原料m3が1kg必要であることを表しています。\n",
    "また、原料m1、m2、m3の在庫は、stocks.csvに記述されています。\n",
    "|m|stock|\n",
    "|:---:|:---:|\n",
    "|m1|35|\n",
    "|m2|22|\n",
    "|m3|27|\n",
    "\n",
    "最後に、製品p1、p2、p3、p4を生産した際の利得はgains.csvに記述されています。\n",
    "|p|gain|\n",
    "|:---:|:---:|\n",
    "|p1|3|\n",
    "|p2|4|\n",
    "|p3|4|\n",
    "|p4|5|\n",
    "\n",
    "このとき、利得を最大にするためには、製品p1、p2、p3、p4をそれぞれ何kg製造すればよいでしょうか。"
   ]
  },
  {
   "cell_type": "code",
   "execution_count": 7,
   "metadata": {},
   "outputs": [
    {
     "name": "stdout",
     "output_type": "stream",
     "text": [
      "Status: Optimal\n",
      "p1 12.142857\n",
      "p2 3.5714286\n",
      "p3 7.4285714\n",
      "p4 0.0\n",
      "obj= 80.42857099999999\n"
     ]
    }
   ],
   "source": [
    "import pandas as pd\n",
    "import pulp\n",
    "\n",
    "stock_df = pd.read_csv(\"data/stocks.csv\")\n",
    "require_df = pd.read_csv(\"data/requires.csv\")\n",
    "gain_df = pd.read_csv(\"data/gains.csv\")\n",
    "\n",
    "# リストの定義\n",
    "P = gain_df[\"p\"].tolist()\n",
    "# ['p1', 'p2', 'p3', 'p4']\n",
    "M = stock_df[\"m\"].tolist()\n",
    "# ['m1', 'm2', 'm3']\n",
    "\n",
    "# 定数の定義（辞書化）\n",
    "stock = stock_df.set_index(\"m\").to_dict()[\"stock\"]\n",
    "# {'m1': 35, 'm2': 22, 'm3': 27}\n",
    "require = require_df.set_index([\"p\", \"m\"]).to_dict()[\"require\"]\n",
    "# {('p1', 'm1'): 2, ('p1', 'm2'): 0, ('p1', 'm3'): 1, ('p2', 'm1'): 3,\n",
    "#  ('p2', 'm2'): 2, ('p2', 'm3'): 0, ('p3', 'm1'): 0, ('p3', 'm2'): 2,\n",
    "#  ('p3', 'm3'): 2, ('p4', 'm1'): 2, ('p4', 'm2'): 2, ('p4', 'm3'): 2}\n",
    "gain = gain_df.set_index(\"p\").to_dict()[\"gain\"]\n",
    "# {'p1': 3, 'p2': 4, 'p3': 4, 'p4': 5}\n",
    "\n",
    "# 線形計画問題の定義\n",
    "problem = pulp.LpProblem(\"LP2\", pulp.LpMaximize)\n",
    "\n",
    "# 変数の定義（まとめて定義）\n",
    "x = pulp.LpVariable.dicts(\"x\", P, cat=\"Continuous\")\n",
    "# {'p1': x_p1, 'p2': x_p2, 'p3': x_p3, 'p4': x_p4}\n",
    "\n",
    "# 制約式の定義\n",
    "for p in P:\n",
    "    problem += x[p] >= 0\n",
    "for m in M:\n",
    "    problem += pulp.lpSum([require[p, m] * x[p] for p in P]) <= stock[m]\n",
    "\n",
    "# 目的関数の定義\n",
    "problem += pulp.lpSum([gain[p] * x[p] for p in P])\n",
    "\n",
    "status = problem.solve(pulp.PULP_CBC_CMD(msg=0))\n",
    "print(\"Status:\", pulp.LpStatus[status])\n",
    "\n",
    "for p in P:\n",
    "    print(p, x[p].value())\n",
    "\n",
    "print(\"obj=\", problem.objective.value())"
   ]
  },
  {
   "cell_type": "markdown",
   "metadata": {},
   "source": [
    "### 生産量をkgではなく個数として、整数計画問題を解いてみる"
   ]
  },
  {
   "cell_type": "code",
   "execution_count": 8,
   "metadata": {},
   "outputs": [
    {
     "name": "stdout",
     "output_type": "stream",
     "text": [
      "Status: Optimal\n",
      "p1 13.0\n",
      "p2 3.0\n",
      "p3 7.0\n",
      "p4 -0.0\n",
      "obj= 79.0\n"
     ]
    }
   ],
   "source": [
    "import pandas as pd\n",
    "import pulp\n",
    "\n",
    "stock_df = pd.read_csv(\"data/stocks.csv\")\n",
    "require_df = pd.read_csv(\"data/requires.csv\")\n",
    "gain_df = pd.read_csv(\"data/gains.csv\")\n",
    "\n",
    "# リストの定義\n",
    "P = gain_df[\"p\"].tolist()\n",
    "# ['p1', 'p2', 'p3', 'p4']\n",
    "M = stock_df[\"m\"].tolist()\n",
    "# ['m1', 'm2', 'm3']\n",
    "\n",
    "# 定数の定義（辞書化）\n",
    "stock = stock_df.set_index(\"m\").to_dict()[\"stock\"]\n",
    "# {'m1': 35, 'm2': 22, 'm3': 27}\n",
    "require = require_df.set_index([\"p\", \"m\"]).to_dict()[\"require\"]\n",
    "# {('p1', 'm1'): 2, ('p1', 'm2'): 0, ('p1', 'm3'): 1, ('p2', 'm1'): 3,\n",
    "#  ('p2', 'm2'): 2, ('p2', 'm3'): 0, ('p3', 'm1'): 0, ('p3', 'm2'): 2,\n",
    "#  ('p3', 'm3'): 2, ('p4', 'm1'): 2, ('p4', 'm2'): 2, ('p4', 'm3'): 2}\n",
    "gain = gain_df.set_index(\"p\").to_dict()[\"gain\"]\n",
    "# {'p1': 3, 'p2': 4, 'p3': 4, 'p4': 5}\n",
    "\n",
    "# 整数計画問題の定義\n",
    "problem = pulp.LpProblem(\"IP\", pulp.LpMaximize)\n",
    "\n",
    "# 変数の定義（まとめて定義）\n",
    "x = pulp.LpVariable.dicts(\"x\", P, cat=\"Integer\")\n",
    "# {'p1': x_p1, 'p2': x_p2, 'p3': x_p3, 'p4': x_p4}\n",
    "\n",
    "# 制約式の定義\n",
    "for p in P:\n",
    "    problem += x[p] >= 0\n",
    "for m in M:\n",
    "    problem += pulp.lpSum([require[p, m] * x[p] for p in P]) <= stock[m]\n",
    "\n",
    "# 目的関数の定義\n",
    "problem += pulp.lpSum([gain[p] * x[p] for p in P])\n",
    "\n",
    "status = problem.solve(pulp.PULP_CBC_CMD(msg=0))\n",
    "print(\"Status:\", pulp.LpStatus[status])\n",
    "\n",
    "for p in P:\n",
    "    print(p, x[p].value())\n",
    "\n",
    "print(\"obj=\", problem.objective.value())"
   ]
  }
 ],
 "metadata": {
  "kernelspec": {
   "display_name": "Python 3.10.8 64-bit",
   "language": "python",
   "name": "python3"
  },
  "language_info": {
   "codemirror_mode": {
    "name": "ipython",
    "version": 3
   },
   "file_extension": ".py",
   "mimetype": "text/x-python",
   "name": "python",
   "nbconvert_exporter": "python",
   "pygments_lexer": "ipython3",
   "version": "3.10.8"
  },
  "orig_nbformat": 4,
  "vscode": {
   "interpreter": {
    "hash": "949777d72b0d2535278d3dc13498b2535136f6dfe0678499012e853ee9abcab1"
   }
  }
 },
 "nbformat": 4,
 "nbformat_minor": 2
}
